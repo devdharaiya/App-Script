{
 "cells": [
  {
   "cell_type": "markdown",
   "metadata": {},
   "source": [
    "Q1) Write a Python program to initialize a 3x3 NumPy array with any integer values of your choice. Then, perform the following operations: <br>\n",
    "Multiply the entire array by 2. <br>\n",
    "Add 5 to each element of the array. <br>\n",
    "Calculate the square of each element in the array.<br>\n",
    "Print the original array and the results of each operation.<br>"
   ]
  },
  {
   "cell_type": "code",
   "execution_count": 2,
   "metadata": {},
   "outputs": [
    {
     "name": "stdout",
     "output_type": "stream",
     "text": [
      "Original [[2 4 6]\n",
      " [3 5 7]]\n",
      "Multiplied by 2 [[ 4  8 12]\n",
      " [ 6 10 14]]\n",
      "Added 5 [[ 7  9 11]\n",
      " [ 8 10 12]]\n",
      "Square [[ 4 16 36]\n",
      " [ 9 25 49]]\n"
     ]
    }
   ],
   "source": [
    "import numpy as np\n",
    "table = np.array([[2,4,6], [3,5,7]])\n",
    "print(\"Original\", table)\n",
    "print('Multiplied by 2', table * 2)\n",
    "print('Added 5', table + 5)\n",
    "print('Square', table * table)"
   ]
  },
  {
   "cell_type": "markdown",
   "metadata": {},
   "source": [
    "Q2) Write a Python program to initialize a 3x3 NumPy array with any integer values of your choice. Then, perform the following slicing operations:\n",
    "<br>Extract the first row of the array.\n",
    "<br>Extract the last column of the array.\n",
    "<br>Extract a 2x2 sub-array from the center of the original array."
   ]
  },
  {
   "cell_type": "code",
   "execution_count": 3,
   "metadata": {},
   "outputs": [
    {
     "name": "stdout",
     "output_type": "stream",
     "text": [
      "First Row [2 4 6]\n",
      "Last Row [3 5 7]\n",
      "2*2 Array [[4 6]\n",
      " [5 7]]\n"
     ]
    }
   ],
   "source": [
    "print('First Row', table[0])\n",
    "print('Last Row', table[1])\n",
    "print(\"2*2 Array\", table[:, 1:3])"
   ]
  },
  {
   "cell_type": "markdown",
   "metadata": {},
   "source": [
    "Q3) Write a program to create a DataFrame in Python to store the names and marks of 10 students. <br>Each row of the DataFrame should represent a student, with columns as 'Name' and 'Marks'. <br>Populate the DataFrame with appropriate data and then print it."
   ]
  },
  {
   "cell_type": "code",
   "execution_count": 4,
   "metadata": {},
   "outputs": [
    {
     "name": "stdout",
     "output_type": "stream",
     "text": [
      "       Name  Marks\n",
      "0       Dev     98\n",
      "1    Hemang     85\n",
      "2      Yash     32\n",
      "3    Shreya     20\n",
      "4   Shrehal     65\n",
      "5  Shravani     74\n",
      "6   Sandhya     59\n",
      "7    Siddhi     35\n",
      "8    Aastha     49\n",
      "9   Nandini     25\n"
     ]
    },
    {
     "name": "stderr",
     "output_type": "stream",
     "text": [
      "/tmp/ipykernel_1722/1039275916.py:1: DeprecationWarning: \n",
      "Pyarrow will become a required dependency of pandas in the next major release of pandas (pandas 3.0),\n",
      "(to allow more performant data types, such as the Arrow string type, and better interoperability with other libraries)\n",
      "but was not found to be installed on your system.\n",
      "If this would cause problems for you,\n",
      "please provide us feedback at https://github.com/pandas-dev/pandas/issues/54466\n",
      "        \n",
      "  import pandas as pd\n"
     ]
    }
   ],
   "source": [
    "import pandas as pd\n",
    "data = {\n",
    "    'Name': ['Dev', 'Hemang', 'Yash', 'Shreya', 'Shrehal', 'Shravani', 'Sandhya', 'Siddhi', 'Aastha', 'Nandini'],\n",
    "    'Marks': [98, 85, 32, 20, 65, 74, 59, 35, 49, 25]\n",
    "}\n",
    "df = pd.DataFrame(data)\n",
    "print(df)"
   ]
  },
  {
   "cell_type": "markdown",
   "metadata": {},
   "source": [
    "Q4) Write a python program to create a DataFrame representing the names and income of 5 employees. The DataFrame should include columns ' Employee_name’ and ‘Income', and each row should correspond to an individual employee. Use the indices 'a', 'b', 'c', 'd', and 'e' for the DataFrame entries to uniquely identify each employee."
   ]
  },
  {
   "cell_type": "code",
   "execution_count": 5,
   "metadata": {},
   "outputs": [
    {
     "name": "stdout",
     "output_type": "stream",
     "text": [
      "  Employee_Name  Marks\n",
      "0             A     98\n",
      "1             B     85\n",
      "2             C     32\n",
      "3             D     20\n",
      "4             E     65\n"
     ]
    }
   ],
   "source": [
    "emplData = {\n",
    "    'Employee_Name': ['A', 'B', 'C', 'D', 'E'],\n",
    "    'Marks': [98, 85, 32, 20, 65]\n",
    "}\n",
    "df = pd.DataFrame(emplData)\n",
    "print(df)"
   ]
  },
  {
   "cell_type": "markdown",
   "metadata": {},
   "source": [
    "Q5) Imagine you're tasked with visualizing data using Python. You have the following dataset representing the frequency of occurrences for categories A, B, C, D, and E, stored in two lists:\n",
    "<br>x = ['A', 'B', 'C', 'D', 'E']\n",
    "<br>y = [10, 20, 15, 25, 30]\n",
    "<br>Write a Python script that creates a bar plot to visualize this data. The categories A, B, C, D, and E should be displayed on the x-axis, while the corresponding frequencies should be displayed on the y-axis."
   ]
  },
  {
   "cell_type": "code",
   "execution_count": 15,
   "metadata": {},
   "outputs": [
    {
     "data": {
      "image/png": "[encoded data removed]",
      "text/plain": [
       "<Figure size 640x480 with 1 Axes>"
      ]
     },
     "metadata": {},
     "output_type": "display_data"
    }
   ],
   "source": [
    "import matplotlib.pyplot as plt\n",
    "data = {\n",
    "    'x': ['A','B','C','D','E'],\n",
    "    'y': [10,20,15,25,30] \n",
    "}\n",
    "df2 = pd.DataFrame(data)\n",
    "\n",
    "plt.bar(df2['x'], df2['y'])\n",
    "plt.xlabel('Labels')\n",
    "plt.ylabel('Values')\n",
    "plt.show()\n"
   ]
  }
 ],
 "metadata": {
  "kernelspec": {
   "display_name": "Python 3",
   "language": "python",
   "name": "python3"
  },
  "language_info": {
   "codemirror_mode": {
    "name": "ipython",
    "version": 3
   },
   "file_extension": ".py",
   "mimetype": "text/x-python",
   "name": "python",
   "nbconvert_exporter": "python",
   "pygments_lexer": "ipython3",
   "version": "3.10.13"
  }
 },
 "nbformat": 4,
 "nbformat_minor": 2
}
