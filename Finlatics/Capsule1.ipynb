{
 "cells": [
  {
   "cell_type": "markdown",
   "metadata": {},
   "source": [
    "**Do It Yourself**"
   ]
  },
  {
   "cell_type": "markdown",
   "metadata": {},
   "source": [
    "Q1) Write a Python program that takes user input for their name and greets the user. Then, prompt the user to enter two values. After receiving the values, swap them and print both the ordiginal values and the swapped values."
   ]
  },
  {
   "cell_type": "code",
   "execution_count": 2,
   "metadata": {},
   "outputs": [
    {
     "name": "stdout",
     "output_type": "stream",
     "text": [
      "Hello de5\n",
      "Original Values: 80000000 325130.016\n",
      "Swapped Values 325130.016 80000000\n"
     ]
    }
   ],
   "source": [
    "name = input(\"What's Your Name?\")\n",
    "print(\"Hello\", name)\n",
    "\n",
    "v1 = input(\"Enter the first value\")\n",
    "v2 = input(\"Enter the second value\")\n",
    "print(\"Original Values:\", v1, v2)\n",
    "print(\"Swapped Values\", v2, v1)\n",
    "\n"
   ]
  },
  {
   "cell_type": "markdown",
   "metadata": {},
   "source": [
    "Q2) Write a Python program that asks the user to input the radius of a circle. Calculate the area of the circle using the formula area = π * radius^2, where π (pi) is a constant approximately equal to 3.14. Print out the calculated area. Ensure that the user input for the radius is converted to a float data type before performing calculations."
   ]
  },
  {
   "cell_type": "code",
   "execution_count": 3,
   "metadata": {},
   "outputs": [
    {
     "name": "stdout",
     "output_type": "stream",
     "text": [
      "the area of the circle is 4069.44\n"
     ]
    }
   ],
   "source": [
    "radii = input(\"Please input the radius of the circle\")\n",
    "radius = float(radii)\n",
    "\n",
    "print(\"The area of the circle is\", 3.14 * radius * radius)"
   ]
  },
  {
   "cell_type": "markdown",
   "metadata": {},
   "source": [
    "Q3) Write a Python program where the user is prompted to input their birth year. The program should then calculate and display the user's current age."
   ]
  },
  {
   "cell_type": "code",
   "execution_count": 5,
   "metadata": {},
   "outputs": [
    {
     "name": "stdout",
     "output_type": "stream",
     "text": [
      "Your current age is 23\n"
     ]
    }
   ],
   "source": [
    "raw = input(\"Please input your birth year\")\n",
    "year = int(raw)\n",
    "print(\"Your current age is\", 2024 - year)\n",
    "\n"
   ]
  },
  {
   "cell_type": "markdown",
   "metadata": {},
   "source": [
    "Q4) Imagine you're a bakery owner and you want to personalize messages for your customers.\n",
    "Write a Python program where customers are prompted to input their name and favorite cake flavor. The program should then print a customized message saying: \"Hello, [name]! We're delighted to serve you your favorite [favorite_cake] cake on your birthday. Happy Birthday.\""
   ]
  },
  {
   "cell_type": "code",
   "execution_count": 3,
   "metadata": {},
   "outputs": [
    {
     "name": "stdout",
     "output_type": "stream",
     "text": [
      "Hello, abc ! We're delighted to serve you your favorite bcd cake on your birthday. Happy Birthday.\n"
     ]
    }
   ],
   "source": [
    "name = input(\"Please enter your name\")\n",
    "cake = input(\"Please enter your favorite cake flavor\")\n",
    "print(\"Hello,\", name, \"! We're delighted to serve you your favorite\", cake, \"cake on your birthday. Happy Birthday.\")"
   ]
  },
  {
   "cell_type": "markdown",
   "metadata": {},
   "source": [
    "Q5) Write a Python program to calculate the simple interest with user input for principal amount, rate, and time."
   ]
  },
  {
   "cell_type": "code",
   "execution_count": 1,
   "metadata": {},
   "outputs": [
    {
     "name": "stdout",
     "output_type": "stream",
     "text": [
      "Simple Interest is 826200.0\n"
     ]
    }
   ],
   "source": [
    "rawAmt = input(\"Please enter Principal Amount\")\n",
    "rawRate = input(\"Please enter Rate Of Interest(in %)\")\n",
    "rawTime = input(\"Please enter the Period of Time (in Years)\")\n",
    "\n",
    "Amt = float(rawAmt)\n",
    "Rate = float(rawRate)\n",
    "Time = float(rawTime)\n",
    "print(\"Simple Interest is\", Amt * (Rate/100)* Time)"
   ]
  }
 ],
 "metadata": {
  "colab": {
   "collapsed_sections": [],
   "name": "1. Basic Plots Using Plotly Express.ipynb",
   "provenance": [],
   "toc_visible": true
  },
  "kernelspec": {
   "display_name": "Python 3",
   "language": "python",
   "name": "python3"
  },
  "language_info": {
   "codemirror_mode": {
    "name": "ipython",
    "version": 3
   },
   "file_extension": ".py",
   "mimetype": "text/x-python",
   "name": "python",
   "nbconvert_exporter": "python",
   "pygments_lexer": "ipython3",
   "version": "3.10.13"
  }
 },
 "nbformat": 4,
 "nbformat_minor": 1
}
