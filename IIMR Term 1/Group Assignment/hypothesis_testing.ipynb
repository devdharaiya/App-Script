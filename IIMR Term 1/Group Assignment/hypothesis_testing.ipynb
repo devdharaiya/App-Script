{
 "cells": [
  {
   "cell_type": "code",
   "execution_count": 37,
   "metadata": {},
   "outputs": [],
   "source": [
    "import pandas as pd\n",
    "import numpy as np\n",
    "\n",
    "data = pd.read_csv('/workspaces/Coding/IIMR Term 1/Group Assignment/q30 data.csv')\n",
    "df = pd.DataFrame(data)"
   ]
  },
  {
   "cell_type": "code",
   "execution_count": 35,
   "metadata": {},
   "outputs": [
    {
     "name": "stdout",
     "output_type": "stream",
     "text": [
      "x̄:  7.0\n",
      "s:  2.3970815588961507\n",
      "n:  40\n",
      "μ:  6.4\n",
      "df:  5.4\n"
     ]
    }
   ],
   "source": [
    "# Calculate Sample Mean and Standard Deviation\n",
    "x̄ = np.mean(df['hrs'])\n",
    "s = np.std(df['hrs'])\n",
    "n = len(df['hrs'])\n",
    "μ = 6.4\n",
    "dframe = μ - 1\n",
    "\n",
    "print('x̄: ', x̄)\n",
    "print('s: ', s)\n",
    "print('n: ', n)\n",
    "print('μ: ', μ)\n",
    "print('df: ', dframe)"
   ]
  },
  {
   "cell_type": "markdown",
   "metadata": {},
   "source": [
    "**Step 1: Hypothesis**<br>\n",
    "Ho: μ = 6.4 <br>\n",
    "H1: μ ≠ 6.4"
   ]
  },
  {
   "cell_type": "markdown",
   "metadata": {},
   "source": [
    "**Step 2: T Statistic**"
   ]
  },
  {
   "cell_type": "code",
   "execution_count": 36,
   "metadata": {},
   "outputs": [
    {
     "name": "stdout",
     "output_type": "stream",
     "text": [
      "T Statistics: (x̄ - μ)/ (s / √ n)\n",
      "= 1.5830638628539269\n"
     ]
    }
   ],
   "source": [
    "print('T Statistics: (x̄ - μ)/ (s / √ n)')\n",
    "\n",
    "t = (x̄ - μ) / (s / np.sqrt(n))\n",
    "\n",
    "print('=', t)"
   ]
  },
  {
   "cell_type": "markdown",
   "metadata": {},
   "source": [
    "**Step 3: P-Value Approach**<br>\n",
    "Alpha = 0.05<br>\n",
    "At df = 39 & t = 1.58<br>\n",
    "p-value: (0.1 - 0.2)<br><br>\n",
    "P-value (0.1 - 0.2) > Alpha (0.05)<br>\n",
    "Therefore, H0 cannot be rejected."
   ]
  },
  {
   "cell_type": "markdown",
   "metadata": {},
   "source": [
    "**Step 4: Critical Value Approach**<br>\n",
    "T_cutoff = +- 2.023<br>\n",
    "Reject H0 if t <= -2.023 OR<br>\n",
    "&emsp; &emsp; &emsp; &emsp; &nbsp; if t >= 2.023<br>\n",
    "Therefore, H0 canot be rejected."
   ]
  },
  {
   "cell_type": "markdown",
   "metadata": {},
   "source": [
    "**Conclusion**<br>\n",
    "Population mean number of hours married men are spending in child care does not differ from the mean reported by <i> Time </i> in any area."
   ]
  }
 ],
 "metadata": {
  "kernelspec": {
   "display_name": "Python 3",
   "language": "python",
   "name": "python3"
  },
  "language_info": {
   "codemirror_mode": {
    "name": "ipython",
    "version": 3
   },
   "file_extension": ".py",
   "mimetype": "text/x-python",
   "name": "python",
   "nbconvert_exporter": "python",
   "pygments_lexer": "ipython3",
   "version": "3.10.13"
  }
 },
 "nbformat": 4,
 "nbformat_minor": 2
}
