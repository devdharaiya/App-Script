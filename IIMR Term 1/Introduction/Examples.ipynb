{
 "cells": [
  {
   "cell_type": "markdown",
   "metadata": {},
   "source": [
    "**Example 1**\n",
    "\n",
    "Write a program which takes numbers input from the user and prints wether number is even or odd."
   ]
  },
  {
   "cell_type": "code",
   "execution_count": 1,
   "metadata": {},
   "outputs": [
    {
     "name": "stdout",
     "output_type": "stream",
     "text": [
      "25 is odd.\n"
     ]
    }
   ],
   "source": [
    "#Program to check is number is odd or even\n",
    "num = int(input(\"Enter a number:\"))\n",
    "\n",
    "#Check if the number is even\n",
    "if num % 2 == 0:\n",
    "    print(num, \"is even.\")\n",
    "else:\n",
    "    print(num, \"is odd.\")"
   ]
  },
  {
   "cell_type": "markdown",
   "metadata": {},
   "source": [
    "**Example 2**\n",
    "\n",
    "Write a program that takes number input from the user and displays all the prime numbers fro 1 to number input given by user."
   ]
  },
  {
   "cell_type": "code",
   "execution_count": 4,
   "metadata": {},
   "outputs": [
    {
     "name": "stdout",
     "output_type": "stream",
     "text": [
      "Prime number between 1 and 25 are:\n",
      "2\n",
      "3\n",
      "5\n",
      "7\n",
      "11\n",
      "13\n",
      "17\n",
      "19\n",
      "23\n"
     ]
    }
   ],
   "source": [
    "#Program to display all prime numbers from 1 to number given by user\n",
    "#taking input from the user\n",
    "num = int(input(\"Enter a upper range:\"))\n",
    "print(\"Prime number between 1 and\", num, \"are:\")\n",
    "for x in range(1, num + 1):\n",
    "    #all prime numbers are greater than 1\n",
    "    if x > 1:\n",
    "        for i in range(2, x):\n",
    "            if (x % i) == 0:\n",
    "                break\n",
    "        else:\n",
    "            print(x)"
   ]
  },
  {
   "cell_type": "markdown",
   "metadata": {},
   "source": [
    "**Example 3**\n",
    "\n",
    "Write a program that generates 12 random numbers between 0 and 199."
   ]
  },
  {
   "cell_type": "code",
   "execution_count": 7,
   "metadata": {},
   "outputs": [
    {
     "name": "stdout",
     "output_type": "stream",
     "text": [
      "12 randome numbers between 0 and 199 are:\n",
      "Random number 1 is = 3\n",
      "Random number 2 is = 153\n",
      "Random number 3 is = 16\n",
      "Random number 4 is = 42\n",
      "Random number 5 is = 122\n",
      "Random number 6 is = 7\n",
      "Random number 7 is = 148\n",
      "Random number 8 is = 38\n",
      "Random number 9 is = 61\n",
      "Random number 10 is = 53\n",
      "Random number 11 is = 57\n",
      "Random number 12 is = 144\n"
     ]
    }
   ],
   "source": [
    "import random\n",
    "#Generate 12 random numbers between 0 and 199\n",
    "print(\"12 randome numbers between 0 and 199 are:\")\n",
    "for x in range(1, 13):\n",
    "    print(\"Random number\", x, \"is =\", random.randint(0, 199))"
   ]
  },
  {
   "cell_type": "markdown",
   "metadata": {},
   "source": [
    "**Example 4**\n",
    "\n",
    "Write a program to find the largest number among the three numbers"
   ]
  },
  {
   "cell_type": "code",
   "execution_count": 9,
   "metadata": {},
   "outputs": [
    {
     "name": "stdout",
     "output_type": "stream",
     "text": [
      "The largest number is 16\n"
     ]
    }
   ],
   "source": [
    "n1 = 10\n",
    "n2 = 14\n",
    "n3 = 16\n",
    "\n",
    "if (n1 > n2) and (n1 > n3):\n",
    "    largest = n1\n",
    "elif (n2 > n1) and (n2 > n3):\n",
    "    largest = n2\n",
    "else: largest = n3\n",
    "print(\"The largest number is\", largest)"
   ]
  },
  {
   "cell_type": "markdown",
   "metadata": {},
   "source": [
    "**Example 5**\n",
    "\n",
    "Write a program which prints a multiplication table from 1 to 10. The number for which the table is create is given by the user."
   ]
  },
  {
   "cell_type": "code",
   "execution_count": 2,
   "metadata": {},
   "outputs": [
    {
     "name": "stdout",
     "output_type": "stream",
     "text": [
      "Multiplication table of 56\n",
      "56 x 1 = 56\n",
      "56 x 2 = 112\n",
      "56 x 3 = 168\n",
      "56 x 4 = 224\n",
      "56 x 5 = 280\n",
      "56 x 6 = 336\n",
      "56 x 7 = 392\n",
      "56 x 8 = 448\n",
      "56 x 9 = 504\n",
      "56 x 10 = 560\n"
     ]
    }
   ],
   "source": [
    "#Multiplication Table\n",
    "num = int(input(\"Enter the number whose table we want to write:\"))\n",
    "print(\"Multiplication table of\", num)\n",
    "#Iterate 10 times from i = 1 to 10\n",
    "for i in range(1,11):\n",
    "    print(num, 'x', i, '=', num * i)"
   ]
  },
  {
   "cell_type": "markdown",
   "metadata": {},
   "source": [
    "**Example 6**\n",
    "\n",
    "There are seven students whose names are from number 1 to 7. There marks out of 100 in four subjects are given below:<br>\n",
    "Maths: 65,78,91,34,36,29,45 <br>\n",
    "Science: 25,50,35,34,76,49,65 <br>\n",
    "English: 85,78,91,34,96,89,45 <br>\n",
    "Hindi: 15,18,31,34,25,50,35 <br><br>\n",
    "Answer the following questions: <br>\n",
    "a. Create a dataframe of this first column is name of student, and then four columns of marks in each subject. <br>\n",
    "b. Add Sixth and Seventh column of total and percentage, calculate total and percentage.<br>\n",
    "c. Add Eight column of Result where we display PASS/FAIL based on Percentage, PASS is displayed if percentage of marks is are more than equal to 40 and FAIL is displayed on rest of the students. <br>\n",
    "d. Add eighth column of Division display, Division is \"FIRST\" when percentage of marks are more than equal to 60, Division is \"SECOND\" when percentage of marks is between 50 and 60. Division is \"THIRD\" when percentage of marks is between 40 and 50, \"FAIL\" is displayed for the rest of the students. <br>\n",
    "e. SORT the datarameby column \"DIVISION\" <br>\n",
    "f. SORT the datarameby column \"Total\" in ascending order<br>\n",
    "g. df.sort_values(by=['Division]) <br>\n",
    "h. Filter out those students who have a Percentage of marks equal to 60 <br>\n",
    "i. Filter out only those students who have third division <br>\n",
    "j. Extract only division column from the dataframe <br>\n",
    "k. Extract only Third row from the dataframe <br>\n",
    "l. Create a new dataframe with name and division only.<br>"
   ]
  },
  {
   "cell_type": "code",
   "execution_count": 2,
   "metadata": {},
   "outputs": [
    {
     "name": "stdout",
     "output_type": "stream",
     "text": [
      "        Name  Maths  Science  English  Hindi  Total  Average Result Division\n",
      "0  Student 1     65       25       85     15    190    47.50   Pass    Third\n",
      "1  Student 2     78       50       78     18    224    56.00   Pass   Second\n",
      "2  Student 3     91       35       91     31    248    62.00   Pass    First\n",
      "3  Student 4     34       34       34     34    136    34.00   Fail     Fail\n",
      "4  Student 5     36       76       96     25    233    58.25   Pass   Second\n",
      "5  Student 6     29       49       89     50    217    54.25   Pass   Second\n",
      "6  Student 7     45       65       45     35    190    47.50   Pass    Third\n"
     ]
    },
    {
     "name": "stderr",
     "output_type": "stream",
     "text": [
      "/tmp/ipykernel_1810/2040478792.py:1: DeprecationWarning: \n",
      "Pyarrow will become a required dependency of pandas in the next major release of pandas (pandas 3.0),\n",
      "(to allow more performant data types, such as the Arrow string type, and better interoperability with other libraries)\n",
      "but was not found to be installed on your system.\n",
      "If this would cause problems for you,\n",
      "please provide us feedback at https://github.com/pandas-dev/pandas/issues/54466\n",
      "        \n",
      "  import pandas as pd\n"
     ]
    }
   ],
   "source": [
    "import pandas as pd\n",
    "\n",
    "#Define a dictionary\n",
    "data = {\n",
    "    \"Name\": ['Student 1', 'Student 2', 'Student 3', 'Student 4', 'Student 5', 'Student 6', 'Student 7'],\n",
    "    \"Maths\": [65,78,91,34,36,29,45],\n",
    "    \"Science\": [25,50,35,34,76,49,65],\n",
    "    \"English\": [85,78,91,34,96,89,45],\n",
    "    \"Hindi\": [15,18,31,34,25,50,35],\n",
    "}\n",
    "\n",
    "#Create a DF from the Dictionary\n",
    "df = pd.DataFrame(data)\n",
    "\n",
    "#Total Column\n",
    "df['Total'] = df['Maths'] + df['Science'] + df['English'] + df['Hindi']\n",
    "\n",
    "#Percentage Column\n",
    "df['Average'] = df['Total'] * 100 / 400\n",
    "\n",
    "#Result Column\n",
    "df['Result'] = df['Average'].apply(lambda x: \"Pass\" if x >= 40 else \"Fail\")\n",
    "\n",
    "#Division Column\n",
    "def condition(x):\n",
    "    if x >= 60:\n",
    "        return \"First\"\n",
    "    elif x >= 50 and x < 60:\n",
    "        return \"Second\"\n",
    "    elif x >= 40 and x < 50:\n",
    "        return \"Third\"\n",
    "    else:\n",
    "        return \"Fail\"\n",
    "\n",
    "df['Division'] = df['Average'].apply(condition)\n",
    "\n",
    "print(df)\n"
   ]
  },
  {
   "cell_type": "code",
   "execution_count": 3,
   "metadata": {},
   "outputs": [
    {
     "data": {
      "text/html": [
       "<div>\n",
       "<style scoped>\n",
       "    .dataframe tbody tr th:only-of-type {\n",
       "        vertical-align: middle;\n",
       "    }\n",
       "\n",
       "    .dataframe tbody tr th {\n",
       "        vertical-align: top;\n",
       "    }\n",
       "\n",
       "    .dataframe thead th {\n",
       "        text-align: right;\n",
       "    }\n",
       "</style>\n",
       "<table border=\"1\" class=\"dataframe\">\n",
       "  <thead>\n",
       "    <tr style=\"text-align: right;\">\n",
       "      <th></th>\n",
       "      <th>Name</th>\n",
       "      <th>Maths</th>\n",
       "      <th>Science</th>\n",
       "      <th>English</th>\n",
       "      <th>Hindi</th>\n",
       "      <th>Total</th>\n",
       "      <th>Average</th>\n",
       "      <th>Result</th>\n",
       "      <th>Division</th>\n",
       "    </tr>\n",
       "  </thead>\n",
       "  <tbody>\n",
       "    <tr>\n",
       "      <th>3</th>\n",
       "      <td>Student 4</td>\n",
       "      <td>34</td>\n",
       "      <td>34</td>\n",
       "      <td>34</td>\n",
       "      <td>34</td>\n",
       "      <td>136</td>\n",
       "      <td>34.00</td>\n",
       "      <td>Fail</td>\n",
       "      <td>Fail</td>\n",
       "    </tr>\n",
       "    <tr>\n",
       "      <th>2</th>\n",
       "      <td>Student 3</td>\n",
       "      <td>91</td>\n",
       "      <td>35</td>\n",
       "      <td>91</td>\n",
       "      <td>31</td>\n",
       "      <td>248</td>\n",
       "      <td>62.00</td>\n",
       "      <td>Pass</td>\n",
       "      <td>First</td>\n",
       "    </tr>\n",
       "    <tr>\n",
       "      <th>1</th>\n",
       "      <td>Student 2</td>\n",
       "      <td>78</td>\n",
       "      <td>50</td>\n",
       "      <td>78</td>\n",
       "      <td>18</td>\n",
       "      <td>224</td>\n",
       "      <td>56.00</td>\n",
       "      <td>Pass</td>\n",
       "      <td>Second</td>\n",
       "    </tr>\n",
       "    <tr>\n",
       "      <th>4</th>\n",
       "      <td>Student 5</td>\n",
       "      <td>36</td>\n",
       "      <td>76</td>\n",
       "      <td>96</td>\n",
       "      <td>25</td>\n",
       "      <td>233</td>\n",
       "      <td>58.25</td>\n",
       "      <td>Pass</td>\n",
       "      <td>Second</td>\n",
       "    </tr>\n",
       "    <tr>\n",
       "      <th>5</th>\n",
       "      <td>Student 6</td>\n",
       "      <td>29</td>\n",
       "      <td>49</td>\n",
       "      <td>89</td>\n",
       "      <td>50</td>\n",
       "      <td>217</td>\n",
       "      <td>54.25</td>\n",
       "      <td>Pass</td>\n",
       "      <td>Second</td>\n",
       "    </tr>\n",
       "    <tr>\n",
       "      <th>0</th>\n",
       "      <td>Student 1</td>\n",
       "      <td>65</td>\n",
       "      <td>25</td>\n",
       "      <td>85</td>\n",
       "      <td>15</td>\n",
       "      <td>190</td>\n",
       "      <td>47.50</td>\n",
       "      <td>Pass</td>\n",
       "      <td>Third</td>\n",
       "    </tr>\n",
       "    <tr>\n",
       "      <th>6</th>\n",
       "      <td>Student 7</td>\n",
       "      <td>45</td>\n",
       "      <td>65</td>\n",
       "      <td>45</td>\n",
       "      <td>35</td>\n",
       "      <td>190</td>\n",
       "      <td>47.50</td>\n",
       "      <td>Pass</td>\n",
       "      <td>Third</td>\n",
       "    </tr>\n",
       "  </tbody>\n",
       "</table>\n",
       "</div>"
      ],
      "text/plain": [
       "        Name  Maths  Science  English  Hindi  Total  Average Result Division\n",
       "3  Student 4     34       34       34     34    136    34.00   Fail     Fail\n",
       "2  Student 3     91       35       91     31    248    62.00   Pass    First\n",
       "1  Student 2     78       50       78     18    224    56.00   Pass   Second\n",
       "4  Student 5     36       76       96     25    233    58.25   Pass   Second\n",
       "5  Student 6     29       49       89     50    217    54.25   Pass   Second\n",
       "0  Student 1     65       25       85     15    190    47.50   Pass    Third\n",
       "6  Student 7     45       65       45     35    190    47.50   Pass    Third"
      ]
     },
     "execution_count": 3,
     "metadata": {},
     "output_type": "execute_result"
    }
   ],
   "source": [
    "#Sort by Division\n",
    "df.sort_values(by=['Division'])"
   ]
  },
  {
   "cell_type": "code",
   "execution_count": 4,
   "metadata": {},
   "outputs": [
    {
     "data": {
      "text/html": [
       "<div>\n",
       "<style scoped>\n",
       "    .dataframe tbody tr th:only-of-type {\n",
       "        vertical-align: middle;\n",
       "    }\n",
       "\n",
       "    .dataframe tbody tr th {\n",
       "        vertical-align: top;\n",
       "    }\n",
       "\n",
       "    .dataframe thead th {\n",
       "        text-align: right;\n",
       "    }\n",
       "</style>\n",
       "<table border=\"1\" class=\"dataframe\">\n",
       "  <thead>\n",
       "    <tr style=\"text-align: right;\">\n",
       "      <th></th>\n",
       "      <th>Name</th>\n",
       "      <th>Maths</th>\n",
       "      <th>Science</th>\n",
       "      <th>English</th>\n",
       "      <th>Hindi</th>\n",
       "      <th>Total</th>\n",
       "      <th>Average</th>\n",
       "      <th>Result</th>\n",
       "      <th>Division</th>\n",
       "    </tr>\n",
       "  </thead>\n",
       "  <tbody>\n",
       "    <tr>\n",
       "      <th>3</th>\n",
       "      <td>Student 4</td>\n",
       "      <td>34</td>\n",
       "      <td>34</td>\n",
       "      <td>34</td>\n",
       "      <td>34</td>\n",
       "      <td>136</td>\n",
       "      <td>34.00</td>\n",
       "      <td>Fail</td>\n",
       "      <td>Fail</td>\n",
       "    </tr>\n",
       "    <tr>\n",
       "      <th>0</th>\n",
       "      <td>Student 1</td>\n",
       "      <td>65</td>\n",
       "      <td>25</td>\n",
       "      <td>85</td>\n",
       "      <td>15</td>\n",
       "      <td>190</td>\n",
       "      <td>47.50</td>\n",
       "      <td>Pass</td>\n",
       "      <td>Third</td>\n",
       "    </tr>\n",
       "    <tr>\n",
       "      <th>6</th>\n",
       "      <td>Student 7</td>\n",
       "      <td>45</td>\n",
       "      <td>65</td>\n",
       "      <td>45</td>\n",
       "      <td>35</td>\n",
       "      <td>190</td>\n",
       "      <td>47.50</td>\n",
       "      <td>Pass</td>\n",
       "      <td>Third</td>\n",
       "    </tr>\n",
       "    <tr>\n",
       "      <th>5</th>\n",
       "      <td>Student 6</td>\n",
       "      <td>29</td>\n",
       "      <td>49</td>\n",
       "      <td>89</td>\n",
       "      <td>50</td>\n",
       "      <td>217</td>\n",
       "      <td>54.25</td>\n",
       "      <td>Pass</td>\n",
       "      <td>Second</td>\n",
       "    </tr>\n",
       "    <tr>\n",
       "      <th>1</th>\n",
       "      <td>Student 2</td>\n",
       "      <td>78</td>\n",
       "      <td>50</td>\n",
       "      <td>78</td>\n",
       "      <td>18</td>\n",
       "      <td>224</td>\n",
       "      <td>56.00</td>\n",
       "      <td>Pass</td>\n",
       "      <td>Second</td>\n",
       "    </tr>\n",
       "    <tr>\n",
       "      <th>4</th>\n",
       "      <td>Student 5</td>\n",
       "      <td>36</td>\n",
       "      <td>76</td>\n",
       "      <td>96</td>\n",
       "      <td>25</td>\n",
       "      <td>233</td>\n",
       "      <td>58.25</td>\n",
       "      <td>Pass</td>\n",
       "      <td>Second</td>\n",
       "    </tr>\n",
       "    <tr>\n",
       "      <th>2</th>\n",
       "      <td>Student 3</td>\n",
       "      <td>91</td>\n",
       "      <td>35</td>\n",
       "      <td>91</td>\n",
       "      <td>31</td>\n",
       "      <td>248</td>\n",
       "      <td>62.00</td>\n",
       "      <td>Pass</td>\n",
       "      <td>First</td>\n",
       "    </tr>\n",
       "  </tbody>\n",
       "</table>\n",
       "</div>"
      ],
      "text/plain": [
       "        Name  Maths  Science  English  Hindi  Total  Average Result Division\n",
       "3  Student 4     34       34       34     34    136    34.00   Fail     Fail\n",
       "0  Student 1     65       25       85     15    190    47.50   Pass    Third\n",
       "6  Student 7     45       65       45     35    190    47.50   Pass    Third\n",
       "5  Student 6     29       49       89     50    217    54.25   Pass   Second\n",
       "1  Student 2     78       50       78     18    224    56.00   Pass   Second\n",
       "4  Student 5     36       76       96     25    233    58.25   Pass   Second\n",
       "2  Student 3     91       35       91     31    248    62.00   Pass    First"
      ]
     },
     "execution_count": 4,
     "metadata": {},
     "output_type": "execute_result"
    }
   ],
   "source": [
    "#Sort by Total Ascending Order\n",
    "df.sort_values(by=['Total'], ascending = True)"
   ]
  },
  {
   "cell_type": "code",
   "execution_count": 5,
   "metadata": {},
   "outputs": [
    {
     "name": "stdout",
     "output_type": "stream",
     "text": [
      "Empty DataFrame\n",
      "Columns: [Name, Maths, Science, English, Hindi, Total, Average, Result, Division]\n",
      "Index: []\n"
     ]
    }
   ],
   "source": [
    "#Filter data for students with percentage equal to 60\n",
    "dfilter = df[df['Average'] == 60]\n",
    "print(dfilter)"
   ]
  },
  {
   "cell_type": "code",
   "execution_count": 6,
   "metadata": {},
   "outputs": [
    {
     "name": "stdout",
     "output_type": "stream",
     "text": [
      "        Name  Maths  Science  English  Hindi  Total  Average Result Division\n",
      "0  Student 1     65       25       85     15    190     47.5   Pass    Third\n",
      "6  Student 7     45       65       45     35    190     47.5   Pass    Third\n"
     ]
    }
   ],
   "source": [
    "#Filter data for Third Division\n",
    "divfilter = df[df['Division'] == 'Third']\n",
    "print(divfilter)"
   ]
  },
  {
   "cell_type": "code",
   "execution_count": 11,
   "metadata": {},
   "outputs": [
    {
     "name": "stdout",
     "output_type": "stream",
     "text": [
      "0     Third\n",
      "1    Second\n",
      "2     First\n",
      "3      Fail\n",
      "4    Second\n",
      "5    Second\n",
      "6     Third\n",
      "Name: Division, dtype: object\n"
     ]
    }
   ],
   "source": [
    "#Extract only Division Column\n",
    "print(df.Division)"
   ]
  },
  {
   "cell_type": "code",
   "execution_count": 14,
   "metadata": {},
   "outputs": [
    {
     "name": "stdout",
     "output_type": "stream",
     "text": [
      "Name        Student 3\n",
      "Maths              91\n",
      "Science            35\n",
      "English            91\n",
      "Hindi              31\n",
      "Total             248\n",
      "Average          62.0\n",
      "Result           Pass\n",
      "Division        First\n",
      "Name: 2, dtype: object\n"
     ]
    }
   ],
   "source": [
    "#Extract only third row\n",
    "print(df.loc[2])"
   ]
  },
  {
   "cell_type": "code",
   "execution_count": 16,
   "metadata": {},
   "outputs": [
    {
     "name": "stdout",
     "output_type": "stream",
     "text": [
      "        Name Division\n",
      "0  Student 1    Third\n",
      "1  Student 2   Second\n",
      "2  Student 3    First\n",
      "3  Student 4     Fail\n",
      "4  Student 5   Second\n",
      "5  Student 6   Second\n",
      "6  Student 7    Third\n"
     ]
    }
   ],
   "source": [
    "#Extract only Name and Division\n",
    "new_df = df[['Name', 'Division']].copy()\n",
    "print(new_df)"
   ]
  },
  {
   "cell_type": "code",
   "execution_count": 17,
   "metadata": {},
   "outputs": [],
   "source": [
    "#Writing data to CSV\n",
    "df.to_csv('/workspaces/Coding/IIMR Term 1/Introduction/Examples.csv')"
   ]
  },
  {
   "cell_type": "markdown",
   "metadata": {},
   "source": [
    "**Example 7** <br>\n",
    "Write a program to calculate the factorial of a number. The number for which factorial is calculated if given by user."
   ]
  },
  {
   "cell_type": "code",
   "execution_count": 20,
   "metadata": {},
   "outputs": [
    {
     "name": "stdout",
     "output_type": "stream",
     "text": [
      "The factorial of 5 is 120\n"
     ]
    }
   ],
   "source": [
    "num = int(input(\"Enter a number:\"))\n",
    "factorial = 1\n",
    "if num < 0:\n",
    "    print(\"Factorial does not exist for negative numbers\")\n",
    "elif num == 0:\n",
    "    print('Factorial of 0 is 1')\n",
    "else:\n",
    "    for i in range(1, num + 1):\n",
    "        factorial = factorial * i\n",
    "    print('The factorial of', num, 'is', factorial)\n"
   ]
  },
  {
   "cell_type": "markdown",
   "metadata": {},
   "source": [
    "**Example 8** <br>\n",
    "Write a program which takes user input YEAR and then returns that year is leap year or not a leap year"
   ]
  },
  {
   "cell_type": "code",
   "execution_count": 23,
   "metadata": {},
   "outputs": [
    {
     "name": "stdout",
     "output_type": "stream",
     "text": [
      "2400 is a leap year\n"
     ]
    }
   ],
   "source": [
    "year = int(input(\"Enter a year:\"))\n",
    "\n",
    "#century year divided by 400 is leap year\n",
    "if (year % 400 == 0):\n",
    "    print(year, 'is a leap year')\n",
    "\n",
    "#year divided by 4 & not divided by 100 is leap year\n",
    "elif (year % 4 == 0) and (year % 100 != 0):\n",
    "    print(year, 'is a leap year')\n",
    "\n",
    "else:\n",
    "    print(year, 'is not a leap year')"
   ]
  },
  {
   "cell_type": "markdown",
   "metadata": {},
   "source": [
    "**Example 9** <br>\n",
    "A list containing alphabets is given below:<br>\n",
    "Ten = ['B','C','E','G','I','K','M','O','P','S']<br>\n",
    "\n",
    "Answer the following questions: <br>\n",
    "a. Create the list and print the list<br>\n",
    "b. Create a new list which has first 4 alphabets<br>\n",
    "c. Create a new list which has last 4 alphabets<br>\n",
    "d. Create a new list which has E to M alphabets<br>\n",
    "e. Create a new list which has alphabets at odd places<br>\n",
    "f. Create a new list which has alphabets at even places<br>\n",
    "g. Create a new list which is reverse the list Ten<br>\n",
    "h. Create a new list which has first two and last two alphabets<br>"
   ]
  },
  {
   "cell_type": "code",
   "execution_count": 34,
   "metadata": {},
   "outputs": [
    {
     "name": "stdout",
     "output_type": "stream",
     "text": [
      "Original List ['B', 'C', 'E', 'G', 'I', 'K', 'M', 'O', 'P', 'S']\n",
      "First Four ['B', 'C', 'E', 'G']\n",
      "Last Four ['M', 'O', 'P', 'S']\n",
      "E to M ['E', 'G', 'I', 'K', 'M']\n",
      "Odd places ['B', 'E', 'I', 'M', 'P']\n",
      "Even places ['C', 'G', 'K', 'O', 'S']\n",
      "Reverse ['S', 'P', 'O', 'M', 'K', 'I', 'G', 'E', 'C', 'B']\n",
      "First Two and Last Two ['B', 'C', 'P', 'S']\n"
     ]
    }
   ],
   "source": [
    "Ten = ['B','C','E','G','I','K','M','O','P','S']\n",
    "print('Original List', Ten)\n",
    "\n",
    "#First Four\n",
    "subf = Ten[:4]\n",
    "print(\"First Four\", subf)\n",
    "\n",
    "#Last Four\n",
    "subl = Ten[-4:]\n",
    "print(\"Last Four\", subl)\n",
    "\n",
    "#Middle\n",
    "mid = Ten[2:7]\n",
    "print(\"E to M\", mid)\n",
    "\n",
    "#Odd places\n",
    "odd = Ten[::2]\n",
    "print(\"Odd places\", odd)\n",
    "\n",
    "#Even places\n",
    "even = Ten[1::2]\n",
    "print(\"Even places\", even)\n",
    "\n",
    "#Reverse places\n",
    "rev = Ten[::-1]\n",
    "print(\"Reverse\", rev)\n",
    "\n",
    "#First two and last two\n",
    "new = Ten[:2] + Ten[-2:]\n",
    "\n",
    "print('First Two and Last Two', new)"
   ]
  },
  {
   "cell_type": "markdown",
   "metadata": {},
   "source": [
    "Ten numbers are given below:<br>\n",
    "11,23,13,41,24,35,76,17,28,19 <br>\n",
    "\n",
    "a. Use lambda function to identify even number from these 10 numbers<br>\n",
    "b. Use lambda function to calculate square of these 10 numbers<br>\n",
    "c. Use lambda function to calculate sum of these 10 numbers<br>\n",
    "d. Find mean, median, mode, sdev and variance of these 10 numbers <br>"
   ]
  },
  {
   "cell_type": "code",
   "execution_count": 41,
   "metadata": {},
   "outputs": [
    {
     "name": "stdout",
     "output_type": "stream",
     "text": [
      "Even: [24, 76, 28]\n",
      "Square: [121, 529, 169, 1681, 576, 1225, 5776, 289, 784, 361]\n",
      "Sum: 287\n",
      "Mean: 28.7\n",
      "Median: 23.5\n",
      "Mode: 11\n",
      "stdev: 19.073250611494856\n",
      "Variance: 363.7888888888889\n"
     ]
    }
   ],
   "source": [
    "from functools import reduce\n",
    "from statistics import mean, median, mode, stdev, variance\n",
    "numbers = [11,23,13,41,24,35,76,17,28,19]\n",
    "\n",
    "#Even\n",
    "even = list(filter(lambda x: x % 2 == 0, numbers))\n",
    "print('Even:', even)\n",
    "\n",
    "#Square\n",
    "sqr = list(map(lambda x : x ** 2, numbers))\n",
    "print('Square:', sqr)\n",
    "\n",
    "#Sum\n",
    "sum = reduce(lambda x, y: x + y, numbers)\n",
    "print('Sum:', sum)\n",
    "\n",
    "u = mean(numbers)\n",
    "m = median(numbers)\n",
    "z = mode(numbers)\n",
    "std = stdev(numbers)\n",
    "var = variance(numbers)\n",
    "print('Mean:', u)\n",
    "print('Median:', m)\n",
    "print('Mode:', z)\n",
    "print('stdev:', std)\n",
    "print('Variance:', var)\n"
   ]
  }
 ],
 "metadata": {
  "kernelspec": {
   "display_name": "Python 3",
   "language": "python",
   "name": "python3"
  },
  "language_info": {
   "codemirror_mode": {
    "name": "ipython",
    "version": 3
   },
   "file_extension": ".py",
   "mimetype": "text/x-python",
   "name": "python",
   "nbconvert_exporter": "python",
   "pygments_lexer": "ipython3",
   "version": "3.10.13"
  }
 },
 "nbformat": 4,
 "nbformat_minor": 2
}
