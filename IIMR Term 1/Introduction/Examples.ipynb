{
 "cells": [
  {
   "cell_type": "markdown",
   "metadata": {},
   "source": [
    "**Example 1**\n",
    "\n",
    "Write a program which takes numbers input from the user and prints wether number is even or odd."
   ]
  },
  {
   "cell_type": "code",
   "execution_count": 1,
   "metadata": {},
   "outputs": [
    {
     "name": "stdout",
     "output_type": "stream",
     "text": [
      "25 is odd.\n"
     ]
    }
   ],
   "source": [
    "#Program to check is number is odd or even\n",
    "num = int(input(\"Enter a number:\"))\n",
    "\n",
    "#Check if the number is even\n",
    "if num % 2 == 0:\n",
    "    print(num, \"is even.\")\n",
    "else:\n",
    "    print(num, \"is odd.\")"
   ]
  },
  {
   "cell_type": "markdown",
   "metadata": {},
   "source": [
    "**Example 2**\n",
    "\n",
    "Write a program that takes number input from the user and displays all the prime numbers fro 1 to number input given by user."
   ]
  },
  {
   "cell_type": "code",
   "execution_count": 4,
   "metadata": {},
   "outputs": [
    {
     "name": "stdout",
     "output_type": "stream",
     "text": [
      "Prime number between 1 and 25 are:\n",
      "2\n",
      "3\n",
      "5\n",
      "7\n",
      "11\n",
      "13\n",
      "17\n",
      "19\n",
      "23\n"
     ]
    }
   ],
   "source": [
    "#Program to display all prime numbers from 1 to number given by user\n",
    "#taking input from the user\n",
    "num = int(input(\"Enter a upper range:\"))\n",
    "print(\"Prime number between 1 and\", num, \"are:\")\n",
    "for x in range(1, num + 1):\n",
    "    #all prime numbers are greater than 1\n",
    "    if x > 1:\n",
    "        for i in range(2, x):\n",
    "            if (x % i) == 0:\n",
    "                break\n",
    "        else:\n",
    "            print(x)"
   ]
  },
  {
   "cell_type": "markdown",
   "metadata": {},
   "source": [
    "**Example 3**\n",
    "\n",
    "Write a program that generates 12 random numbers between 0 and 199."
   ]
  },
  {
   "cell_type": "code",
   "execution_count": 7,
   "metadata": {},
   "outputs": [
    {
     "name": "stdout",
     "output_type": "stream",
     "text": [
      "12 randome numbers between 0 and 199 are:\n",
      "Random number 1 is = 3\n",
      "Random number 2 is = 153\n",
      "Random number 3 is = 16\n",
      "Random number 4 is = 42\n",
      "Random number 5 is = 122\n",
      "Random number 6 is = 7\n",
      "Random number 7 is = 148\n",
      "Random number 8 is = 38\n",
      "Random number 9 is = 61\n",
      "Random number 10 is = 53\n",
      "Random number 11 is = 57\n",
      "Random number 12 is = 144\n"
     ]
    }
   ],
   "source": [
    "import random\n",
    "#Generate 12 random numbers between 0 and 199\n",
    "print(\"12 randome numbers between 0 and 199 are:\")\n",
    "for x in range(1, 13):\n",
    "    print(\"Random number\", x, \"is =\", random.randint(0, 199))"
   ]
  },
  {
   "cell_type": "markdown",
   "metadata": {},
   "source": [
    "**Example 4**\n",
    "\n",
    "Write a program to find the largest number among the three numbers"
   ]
  },
  {
   "cell_type": "code",
   "execution_count": 9,
   "metadata": {},
   "outputs": [
    {
     "name": "stdout",
     "output_type": "stream",
     "text": [
      "The largest number is 16\n"
     ]
    }
   ],
   "source": [
    "n1 = 10\n",
    "n2 = 14\n",
    "n3 = 16\n",
    "\n",
    "if (n1 > n2) and (n1 > n3):\n",
    "    largest = n1\n",
    "elif (n2 > n1) and (n2 > n3):\n",
    "    largest = n2\n",
    "else: largest = n3\n",
    "print(\"The largest number is\", largest)"
   ]
  },
  {
   "cell_type": "markdown",
   "metadata": {},
   "source": [
    "**Example 4**\n",
    "\n",
    "Write a program which prints a multiplication table from 1 to 10. The number for which the table is create is given by the user."
   ]
  }
 ],
 "metadata": {
  "kernelspec": {
   "display_name": "Python 3",
   "language": "python",
   "name": "python3"
  },
  "language_info": {
   "codemirror_mode": {
    "name": "ipython",
    "version": 3
   },
   "file_extension": ".py",
   "mimetype": "text/x-python",
   "name": "python",
   "nbconvert_exporter": "python",
   "pygments_lexer": "ipython3",
   "version": "3.10.13"
  }
 },
 "nbformat": 4,
 "nbformat_minor": 2
}
