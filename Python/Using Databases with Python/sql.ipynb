{
 "cells": [
  {
   "cell_type": "markdown",
   "metadata": {},
   "source": [
    "**SQL CRUD Codings**"
   ]
  },
  {
   "cell_type": "code",
   "execution_count": 3,
   "metadata": {
    "vscode": {
     "languageId": "sql"
    }
   },
   "outputs": [
    {
     "ename": "SyntaxError",
     "evalue": "invalid syntax (2698552271.py, line 1)",
     "output_type": "error",
     "traceback": [
      "\u001b[0;36m  Cell \u001b[0;32mIn[3], line 1\u001b[0;36m\u001b[0m\n\u001b[0;31m    -- Create Table\u001b[0m\n\u001b[0m              ^\u001b[0m\n\u001b[0;31mSyntaxError\u001b[0m\u001b[0;31m:\u001b[0m invalid syntax\n"
     ]
    }
   ],
   "source": [
    "-- Create Table\n",
    "CREATE TABLE Users(\n",
    "    Name varchar(128),\n",
    "    Email varchar(128)\n",
    ")\n",
    "\n",
    "-- Insert Data\n",
    "INSERT INTO Users(Name, Email) VALUES('DevD', 'dev@gim.com');\n",
    "INSERT INTO Users(Name, Email) VALUES('Dev Jigna', 'dev@iimraipur.com');\n",
    "INSERT INTO Users(Name, Email) VALUES('Dev D', 'dev@iimtrichy.com');\n",
    "INSERT INTO Users(Name, Email) VALUES('DD', 'dev@udaipur.com');\n",
    "INSERT INTO Users(Name, Email) VALUES('DDev', 'dev@iimranchi.com');\n",
    "INSERT INTO Users(Name, Email) VALUES('DTemp', 'dev@iift.com')\n",
    "\n",
    "-- Update Data\n",
    "UPDATE Users SET Email = 'dev@fms.com' where Name = 'DTemp'\n",
    "\n",
    "-- Delete Data\n",
    "Delete from Users where name = 'DTemp'\n",
    "\n",
    "-- Select Data\n",
    "SELECT * FROM Users WHERE Name = 'Dev D'\n",
    "SELECT * FROM Users ORDER BY Email\n"
   ]
  }
 ],
 "metadata": {
  "kernelspec": {
   "display_name": "Python 3",
   "language": "python",
   "name": "python3"
  },
  "language_info": {
   "codemirror_mode": {
    "name": "ipython",
    "version": 3
   },
   "file_extension": ".py",
   "mimetype": "text/x-python",
   "name": "python",
   "nbconvert_exporter": "python",
   "pygments_lexer": "ipython3",
   "version": "3.10.13"
  }
 },
 "nbformat": 4,
 "nbformat_minor": 2
}
